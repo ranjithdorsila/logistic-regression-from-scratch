{
  "metadata": {
    "language_info": {
      "codemirror_mode": {
        "name": "python",
        "version": 3
      },
      "file_extension": ".py",
      "mimetype": "text/x-python",
      "name": "python",
      "nbconvert_exporter": "python",
      "pygments_lexer": "ipython3",
      "version": "3.8"
    },
    "kernelspec": {
      "name": "python",
      "display_name": "Python (Pyodide)",
      "language": "python"
    }
  },
  "nbformat_minor": 4,
  "nbformat": 4,
  "cells": [
    {
      "cell_type": "raw",
      "source": "1. Exploratory Data Analysis",
      "metadata": {}
    },
    {
      "cell_type": "code",
      "source": "#importing the packages\nimport numpy as np\nimport pandas as pd\nimport matplotlib.pyplot as plt\nimport math\nimport sys",
      "metadata": {
        "trusted": true
      },
      "execution_count": 39,
      "outputs": []
    },
    {
      "cell_type": "code",
      "source": "#reading dataset\ns = 'flu_data.csv'\ndf = pd.read_csv(s)\ndf.head()",
      "metadata": {
        "trusted": true
      },
      "execution_count": 40,
      "outputs": [
        {
          "execution_count": 40,
          "output_type": "execute_result",
          "data": {
            "text/plain": "   Student  Vaccin  HndWshQual  HndWshFreq  SociDist  NoFaceContact  \\\n0        1       3           4           4         2              1   \n1        2       2           4           4         5              2   \n2        3       3           2           2         2              3   \n3        4       3           3           2         2              2   \n4        5       2           5           3         3              2   \n\n   RespEttiqu  PersnDist  HandSanit   Risk  Complications  Barriers  \\\n0           5          1          1 -0.770         -1.453     0.000   \n1           5          4          4 -0.345          0.000    -0.489   \n2           2          2          1 -0.406         -0.575    -0.234   \n3           5          3          1 -0.575         -0.197    -0.429   \n4           5          5          3  0.000         -0.770     0.097   \n\n   Inefficacy  KnowlTrans  KnowlMgmt  Sick  Flu  Female  \n0       0.929      -0.554      0.000   0.0  0.0     1.0  \n1       0.149      -0.554      1.482   1.0  0.0     0.0  \n2       0.693      -0.182     -1.482   0.0  0.0     0.0  \n3       0.000       0.554      0.000   2.0  1.0     NaN  \n4       0.546       0.554      0.684   1.0  0.0     0.0  ",
            "text/html": "<div>\n<style scoped>\n    .dataframe tbody tr th:only-of-type {\n        vertical-align: middle;\n    }\n\n    .dataframe tbody tr th {\n        vertical-align: top;\n    }\n\n    .dataframe thead th {\n        text-align: right;\n    }\n</style>\n<table border=\"1\" class=\"dataframe\">\n  <thead>\n    <tr style=\"text-align: right;\">\n      <th></th>\n      <th>Student</th>\n      <th>Vaccin</th>\n      <th>HndWshQual</th>\n      <th>HndWshFreq</th>\n      <th>SociDist</th>\n      <th>NoFaceContact</th>\n      <th>RespEttiqu</th>\n      <th>PersnDist</th>\n      <th>HandSanit</th>\n      <th>Risk</th>\n      <th>Complications</th>\n      <th>Barriers</th>\n      <th>Inefficacy</th>\n      <th>KnowlTrans</th>\n      <th>KnowlMgmt</th>\n      <th>Sick</th>\n      <th>Flu</th>\n      <th>Female</th>\n    </tr>\n  </thead>\n  <tbody>\n    <tr>\n      <th>0</th>\n      <td>1</td>\n      <td>3</td>\n      <td>4</td>\n      <td>4</td>\n      <td>2</td>\n      <td>1</td>\n      <td>5</td>\n      <td>1</td>\n      <td>1</td>\n      <td>-0.770</td>\n      <td>-1.453</td>\n      <td>0.000</td>\n      <td>0.929</td>\n      <td>-0.554</td>\n      <td>0.000</td>\n      <td>0.0</td>\n      <td>0.0</td>\n      <td>1.0</td>\n    </tr>\n    <tr>\n      <th>1</th>\n      <td>2</td>\n      <td>2</td>\n      <td>4</td>\n      <td>4</td>\n      <td>5</td>\n      <td>2</td>\n      <td>5</td>\n      <td>4</td>\n      <td>4</td>\n      <td>-0.345</td>\n      <td>0.000</td>\n      <td>-0.489</td>\n      <td>0.149</td>\n      <td>-0.554</td>\n      <td>1.482</td>\n      <td>1.0</td>\n      <td>0.0</td>\n      <td>0.0</td>\n    </tr>\n    <tr>\n      <th>2</th>\n      <td>3</td>\n      <td>3</td>\n      <td>2</td>\n      <td>2</td>\n      <td>2</td>\n      <td>3</td>\n      <td>2</td>\n      <td>2</td>\n      <td>1</td>\n      <td>-0.406</td>\n      <td>-0.575</td>\n      <td>-0.234</td>\n      <td>0.693</td>\n      <td>-0.182</td>\n      <td>-1.482</td>\n      <td>0.0</td>\n      <td>0.0</td>\n      <td>0.0</td>\n    </tr>\n    <tr>\n      <th>3</th>\n      <td>4</td>\n      <td>3</td>\n      <td>3</td>\n      <td>2</td>\n      <td>2</td>\n      <td>2</td>\n      <td>5</td>\n      <td>3</td>\n      <td>1</td>\n      <td>-0.575</td>\n      <td>-0.197</td>\n      <td>-0.429</td>\n      <td>0.000</td>\n      <td>0.554</td>\n      <td>0.000</td>\n      <td>2.0</td>\n      <td>1.0</td>\n      <td>NaN</td>\n    </tr>\n    <tr>\n      <th>4</th>\n      <td>5</td>\n      <td>2</td>\n      <td>5</td>\n      <td>3</td>\n      <td>3</td>\n      <td>2</td>\n      <td>5</td>\n      <td>5</td>\n      <td>3</td>\n      <td>0.000</td>\n      <td>-0.770</td>\n      <td>0.097</td>\n      <td>0.546</td>\n      <td>0.554</td>\n      <td>0.684</td>\n      <td>1.0</td>\n      <td>0.0</td>\n      <td>0.0</td>\n    </tr>\n  </tbody>\n</table>\n</div>"
          },
          "metadata": {}
        }
      ]
    },
    {
      "cell_type": "raw",
      "source": "a) Consider the following numeric variables in the dataset: Vaccin, HndWshQual, \nHndWshFreq, SociDist, NoFaceContact, RespEttiqu, PersnDist, and HandSanit. \nSummarize the statistics of these variables into count, mean, standard deviation, \nminimum, 25% percentile, 50% percentile, 75% percentile, and maximum.",
      "metadata": {}
    },
    {
      "cell_type": "code",
      "source": "print(\"For variable Vaccin\")\nprint(\"count: {}\".format(len(df['Vaccin'].dropna())))\nprint(\"mean: {}\".format(np.mean(df['Vaccin'])))\nprint(\"standard deviation: {}\".format(np.std(df['Vaccin'])))\nprint(\"minimum: {}\".format(min(df['Vaccin'])))\nprint(\"25th percentile: {}\".format(np.percentile(df['Vaccin'],25)))\nprint(\"50th percentile: {}\".format(np.percentile(df['Vaccin'],50)))\nprint(\"75th percentile: {}\".format(np.percentile(df['Vaccin'],75)))\nprint(\"maximum: {}\".format(max(df['Vaccin'])))",
      "metadata": {
        "trusted": true
      },
      "execution_count": 25,
      "outputs": [
        {
          "name": "stdout",
          "text": "For variable Vaccin\ncount: 410\nmean: 3.370731707317073\nstandard deviation: 1.3647556562219363\nminimum: 1\n25th percentile: 2.0\n50th percentile: 3.0\n75th percentile: 5.0\nmaximum: 9\n",
          "output_type": "stream"
        }
      ]
    },
    {
      "cell_type": "code",
      "source": "print(\"For variable HndWshQual\")\nprint(\"count: {}\".format(len(df['HndWshQual'].dropna())))\nprint(\"mean: {}\".format(np.mean(df['HndWshQual'])))\nprint(\"standard deviation: {}\".format(np.std(df['HndWshQual'])))\nprint(\"minimum: {}\".format(min(df['HndWshQual'])))\nprint(\"25th percentile: {}\".format(np.percentile(df['HndWshQual'],25)))\nprint(\"50th percentile: {}\".format(np.percentile(df['HndWshQual'],50)))\nprint(\"75th percentile: {}\".format(np.percentile(df['HndWshQual'],75)))\nprint(\"maximum: {}\".format(max(df['HndWshQual'])))",
      "metadata": {
        "trusted": true
      },
      "execution_count": 26,
      "outputs": [
        {
          "name": "stdout",
          "text": "For variable HndWshQual\ncount: 410\nmean: 3.8853658536585365\nstandard deviation: 1.0354829144660478\nminimum: 1\n25th percentile: 3.0\n50th percentile: 4.0\n75th percentile: 5.0\nmaximum: 5\n",
          "output_type": "stream"
        }
      ]
    },
    {
      "cell_type": "code",
      "source": "print(\"For variable HndWshFreq\")\nprint(\"count: {}\".format(len(df['HndWshFreq'].dropna())))\nprint(\"mean: {}\".format(np.mean(df['HndWshFreq'])))\nprint(\"standard deviation: {}\".format(np.std(df['HndWshFreq'])))\nprint(\"minimum: {}\".format(min(df['HndWshFreq'])))\nprint(\"25th percentile: {}\".format(np.percentile(df['HndWshFreq'],25)))\nprint(\"50th percentile: {}\".format(np.percentile(df['HndWshFreq'],50)))\nprint(\"75th percentile: {}\".format(np.percentile(df['HndWshFreq'],75)))\nprint(\"maximum: {}\".format(max(df['HndWshFreq'])))",
      "metadata": {
        "trusted": true
      },
      "execution_count": 27,
      "outputs": [
        {
          "name": "stdout",
          "text": "For variable HndWshFreq\ncount: 410\nmean: 3.226829268292683\nstandard deviation: 1.1538957111949495\nminimum: 1\n25th percentile: 2.0\n50th percentile: 3.0\n75th percentile: 4.0\nmaximum: 5\n",
          "output_type": "stream"
        }
      ]
    },
    {
      "cell_type": "code",
      "source": "print(\"For variable SociDist\")\nprint(\"count: {}\".format(len(df['SociDist'].dropna())))\nprint(\"mean: {}\".format(np.mean(df['SociDist'])))\nprint(\"standard deviation: {}\".format(np.std(df['SociDist'])))\nprint(\"minimum: {}\".format(min(df['SociDist'])))\nprint(\"25th percentile: {}\".format(np.percentile(df['SociDist'],25)))\nprint(\"50th percentile: {}\".format(np.percentile(df['SociDist'],50)))\nprint(\"75th percentile: {}\".format(np.percentile(df['SociDist'],75)))\nprint(\"maximum: {}\".format(max(df['SociDist'])))",
      "metadata": {
        "trusted": true
      },
      "execution_count": 28,
      "outputs": [
        {
          "name": "stdout",
          "text": "For variable SociDist\ncount: 410\nmean: 2.9097560975609755\nstandard deviation: 1.1745896798973487\nminimum: 1\n25th percentile: 2.0\n50th percentile: 3.0\n75th percentile: 3.0\nmaximum: 5\n",
          "output_type": "stream"
        }
      ]
    },
    {
      "cell_type": "code",
      "source": "print(\"For variable NoFaceContact\")\nprint(\"count: {}\".format(len(df['NoFaceContact'].dropna())))\nprint(\"mean: {}\".format(np.mean(df['NoFaceContact'])))\nprint(\"standard deviation: {}\".format(np.std(df['NoFaceContact'])))\nprint(\"minimum: {}\".format(min(df['NoFaceContact'])))\nprint(\"25th percentile: {}\".format(np.percentile(df['NoFaceContact'],25)))\nprint(\"50th percentile: {}\".format(np.percentile(df['NoFaceContact'],50)))\nprint(\"75th percentile: {}\".format(np.percentile(df['NoFaceContact'],75)))\nprint(\"maximum: {}\".format(max(df['NoFaceContact'])))",
      "metadata": {
        "trusted": true
      },
      "execution_count": 29,
      "outputs": [
        {
          "name": "stdout",
          "text": "For variable NoFaceContact\ncount: 410\nmean: 2.4560975609756097\nstandard deviation: 1.2451954064474997\nminimum: 1\n25th percentile: 2.0\n50th percentile: 2.0\n75th percentile: 3.0\nmaximum: 9\n",
          "output_type": "stream"
        }
      ]
    },
    {
      "cell_type": "code",
      "source": "print(\"For variable RespEttiqu\")\nprint(\"count: {}\".format(len(df['RespEttiqu'].dropna())))\nprint(\"mean: {}\".format(np.mean(df['RespEttiqu'])))\nprint(\"standard deviation: {}\".format(np.std(df['RespEttiqu'])))\nprint(\"minimum: {}\".format(min(df['RespEttiqu'])))\nprint(\"25th percentile: {}\".format(np.percentile(df['RespEttiqu'],25)))\nprint(\"50th percentile: {}\".format(np.percentile(df['RespEttiqu'],50)))\nprint(\"75th percentile: {}\".format(np.percentile(df['RespEttiqu'],75)))\nprint(\"maximum: {}\".format(max(df['RespEttiqu'])))",
      "metadata": {
        "trusted": true
      },
      "execution_count": 30,
      "outputs": [
        {
          "name": "stdout",
          "text": "For variable RespEttiqu\ncount: 410\nmean: 4.102439024390244\nstandard deviation: 1.2490948537237068\nminimum: 1\n25th percentile: 3.0\n50th percentile: 5.0\n75th percentile: 5.0\nmaximum: 9\n",
          "output_type": "stream"
        }
      ]
    },
    {
      "cell_type": "code",
      "source": "print(\"For variable PersnDist\")\nprint(\"count: {}\".format(len(df['PersnDist'].dropna())))\nprint(\"mean: {}\".format(np.mean(df['PersnDist'])))\nprint(\"standard deviation: {}\".format(np.std(df['PersnDist'])))\nprint(\"minimum: {}\".format(min(df['PersnDist'])))\nprint(\"25th percentile: {}\".format(np.percentile(df['PersnDist'],25)))\nprint(\"50th percentile: {}\".format(np.percentile(df['PersnDist'],50)))\nprint(\"75th percentile: {}\".format(np.percentile(df['PersnDist'],75)))\nprint(\"maximum: {}\".format(max(df['PersnDist'])))",
      "metadata": {
        "trusted": true
      },
      "execution_count": 31,
      "outputs": [
        {
          "name": "stdout",
          "text": "For variable PersnDist\ncount: 410\nmean: 3.4121951219512194\nstandard deviation: 1.1276340701104084\nminimum: 1\n25th percentile: 3.0\n50th percentile: 3.0\n75th percentile: 4.0\nmaximum: 9\n",
          "output_type": "stream"
        }
      ]
    },
    {
      "cell_type": "code",
      "source": "print(\"For variable HandSanit\")\nprint(\"count: {}\".format(len(df['HandSanit'].dropna())))\nprint(\"mean: {}\".format(np.mean(df['HandSanit'])))\nprint(\"standard deviation: {}\".format(np.std(df['HandSanit'])))\nprint(\"minimum: {}\".format(min(df['HandSanit'])))\nprint(\"25th percentile: {}\".format(np.percentile(df['HandSanit'],25)))\nprint(\"50th percentile: {}\".format(np.percentile(df['HandSanit'],50)))\nprint(\"75th percentile: {}\".format(np.percentile(df['HandSanit'],75)))\nprint(\"maximum: {}\".format(max(df['HandSanit'])))",
      "metadata": {
        "trusted": true
      },
      "execution_count": 32,
      "outputs": [
        {
          "name": "stdout",
          "text": "For variable HandSanit\ncount: 410\nmean: 2.7853658536585364\nstandard deviation: 1.5812253623816264\nminimum: 1\n25th percentile: 1.0\n50th percentile: 3.0\n75th percentile: 4.0\nmaximum: 5\n",
          "output_type": "stream"
        }
      ]
    },
    {
      "cell_type": "raw",
      "source": "b) Is there a way to encode female variable as a categorical/string data type? If so, how \nwould you do that? Similarly, explain how would you encode the variable sick and flu \nfrom numeric type to categorical type?\nDescription of Female, Sick and Flu variables: \n\n• For Female (1 = yes; 0 = no)\n\n• Whether or not the person has been sick in the past year (0 = not; 1 = cold-like \nsymptoms; 2 = flu-like symptoms)\n\n• Whether or not the person has had a flu-like illness in the past year (0 = not; 1 = \nflu-like symptoms) ",
      "metadata": {}
    },
    {
      "cell_type": "code",
      "source": "df['Female']=df['Female'].replace({1:'yes',0:'no'})\ndf['Sick']=df['Sick'].replace({0:'not',1:'cold_like',2:'flu_like'})\ndf['Flu']=df['Flu'].replace({1:'flu_like',0:'not'})\ndf.head()",
      "metadata": {
        "trusted": true
      },
      "execution_count": 33,
      "outputs": [
        {
          "execution_count": 33,
          "output_type": "execute_result",
          "data": {
            "text/plain": "   Student  Vaccin  HndWshQual  HndWshFreq  SociDist  NoFaceContact  \\\n0        1       3           4           4         2              1   \n1        2       2           4           4         5              2   \n2        3       3           2           2         2              3   \n3        4       3           3           2         2              2   \n4        5       2           5           3         3              2   \n\n   RespEttiqu  PersnDist  HandSanit   Risk  Complications  Barriers  \\\n0           5          1          1 -0.770         -1.453     0.000   \n1           5          4          4 -0.345          0.000    -0.489   \n2           2          2          1 -0.406         -0.575    -0.234   \n3           5          3          1 -0.575         -0.197    -0.429   \n4           5          5          3  0.000         -0.770     0.097   \n\n   Inefficacy  KnowlTrans  KnowlMgmt       Sick       Flu Female  \n0       0.929      -0.554      0.000        not       not    yes  \n1       0.149      -0.554      1.482  cold_like       not     no  \n2       0.693      -0.182     -1.482        not       not     no  \n3       0.000       0.554      0.000   flu_like  flu_like    NaN  \n4       0.546       0.554      0.684  cold_like       not     no  ",
            "text/html": "<div>\n<style scoped>\n    .dataframe tbody tr th:only-of-type {\n        vertical-align: middle;\n    }\n\n    .dataframe tbody tr th {\n        vertical-align: top;\n    }\n\n    .dataframe thead th {\n        text-align: right;\n    }\n</style>\n<table border=\"1\" class=\"dataframe\">\n  <thead>\n    <tr style=\"text-align: right;\">\n      <th></th>\n      <th>Student</th>\n      <th>Vaccin</th>\n      <th>HndWshQual</th>\n      <th>HndWshFreq</th>\n      <th>SociDist</th>\n      <th>NoFaceContact</th>\n      <th>RespEttiqu</th>\n      <th>PersnDist</th>\n      <th>HandSanit</th>\n      <th>Risk</th>\n      <th>Complications</th>\n      <th>Barriers</th>\n      <th>Inefficacy</th>\n      <th>KnowlTrans</th>\n      <th>KnowlMgmt</th>\n      <th>Sick</th>\n      <th>Flu</th>\n      <th>Female</th>\n    </tr>\n  </thead>\n  <tbody>\n    <tr>\n      <th>0</th>\n      <td>1</td>\n      <td>3</td>\n      <td>4</td>\n      <td>4</td>\n      <td>2</td>\n      <td>1</td>\n      <td>5</td>\n      <td>1</td>\n      <td>1</td>\n      <td>-0.770</td>\n      <td>-1.453</td>\n      <td>0.000</td>\n      <td>0.929</td>\n      <td>-0.554</td>\n      <td>0.000</td>\n      <td>not</td>\n      <td>not</td>\n      <td>yes</td>\n    </tr>\n    <tr>\n      <th>1</th>\n      <td>2</td>\n      <td>2</td>\n      <td>4</td>\n      <td>4</td>\n      <td>5</td>\n      <td>2</td>\n      <td>5</td>\n      <td>4</td>\n      <td>4</td>\n      <td>-0.345</td>\n      <td>0.000</td>\n      <td>-0.489</td>\n      <td>0.149</td>\n      <td>-0.554</td>\n      <td>1.482</td>\n      <td>cold_like</td>\n      <td>not</td>\n      <td>no</td>\n    </tr>\n    <tr>\n      <th>2</th>\n      <td>3</td>\n      <td>3</td>\n      <td>2</td>\n      <td>2</td>\n      <td>2</td>\n      <td>3</td>\n      <td>2</td>\n      <td>2</td>\n      <td>1</td>\n      <td>-0.406</td>\n      <td>-0.575</td>\n      <td>-0.234</td>\n      <td>0.693</td>\n      <td>-0.182</td>\n      <td>-1.482</td>\n      <td>not</td>\n      <td>not</td>\n      <td>no</td>\n    </tr>\n    <tr>\n      <th>3</th>\n      <td>4</td>\n      <td>3</td>\n      <td>3</td>\n      <td>2</td>\n      <td>2</td>\n      <td>2</td>\n      <td>5</td>\n      <td>3</td>\n      <td>1</td>\n      <td>-0.575</td>\n      <td>-0.197</td>\n      <td>-0.429</td>\n      <td>0.000</td>\n      <td>0.554</td>\n      <td>0.000</td>\n      <td>flu_like</td>\n      <td>flu_like</td>\n      <td>NaN</td>\n    </tr>\n    <tr>\n      <th>4</th>\n      <td>5</td>\n      <td>2</td>\n      <td>5</td>\n      <td>3</td>\n      <td>3</td>\n      <td>2</td>\n      <td>5</td>\n      <td>5</td>\n      <td>3</td>\n      <td>0.000</td>\n      <td>-0.770</td>\n      <td>0.097</td>\n      <td>0.546</td>\n      <td>0.554</td>\n      <td>0.684</td>\n      <td>cold_like</td>\n      <td>not</td>\n      <td>no</td>\n    </tr>\n  </tbody>\n</table>\n</div>"
          },
          "metadata": {}
        }
      ]
    },
    {
      "cell_type": "raw",
      "source": "c) Consider the above converted categorical variables in the dataset: gender, sick and flu. \nSummarize the statistics of these variables into count, unique value, top value, and \nfrequency of top value",
      "metadata": {}
    },
    {
      "cell_type": "code",
      "source": "print(\"For variable Gender\")\nprint(\"count: {}\".format(len(df['Female'].dropna())))\nprint(\"unique: {}\".format(len(df['Female'].dropna().unique())))\nprint(\"top value: {}\".format(max(list(df['Female']),key=list(df['Female']).count)))\nprint(\"frequency of top value: {}\".format(df['Female'].value_counts()['yes']))",
      "metadata": {
        "trusted": true
      },
      "execution_count": 34,
      "outputs": [
        {
          "name": "stdout",
          "text": "For variable Gender\ncount: 375\nunique: 2\ntop value: yes\nfrequency of top value: 206\n",
          "output_type": "stream"
        }
      ]
    },
    {
      "cell_type": "code",
      "source": "print(\"For variable Sick\")\nprint(\"count: {}\".format(len(df['Sick'].dropna())))\nprint(\"unique: {}\".format(len(df['Sick'].dropna().unique())))\nprint(\"top value: {}\".format(max(list(df['Sick']),key=list(df['Sick']).count)))\nprint(\"frequency of top value: {}\".format(df['Sick'].value_counts()['cold_like']))",
      "metadata": {
        "trusted": true
      },
      "execution_count": 35,
      "outputs": [
        {
          "name": "stdout",
          "text": "For variable Sick\ncount: 374\nunique: 3\ntop value: cold_like\nfrequency of top value: 213\n",
          "output_type": "stream"
        }
      ]
    },
    {
      "cell_type": "code",
      "source": "print(\"For variable Flu\")\nprint(\"count: {}\".format(len(df['Flu'].dropna())))\nprint(\"unique: {}\".format(len(df['Flu'].dropna().unique())))\nprint(\"top value: {}\".format(max(list(df['Flu']),key=list(df['Flu']).count)))\nprint(\"frequency of top value: {}\".format(df['Flu'].value_counts()['not']))",
      "metadata": {
        "trusted": true
      },
      "execution_count": 36,
      "outputs": [
        {
          "name": "stdout",
          "text": "For variable Flu\ncount: 374\nunique: 2\ntop value: not\nfrequency of top value: 296\n",
          "output_type": "stream"
        }
      ]
    },
    {
      "cell_type": "raw",
      "source": "d) Do you think there is any redundant feature present in the dataset. If so, explain how \nremoving it won't impact the analysis. Also, based on the experiments so far, were \nthere any interesting observations for the variables?",
      "metadata": {}
    },
    {
      "cell_type": "code",
      "source": "df.head()",
      "metadata": {
        "trusted": true
      },
      "execution_count": 37,
      "outputs": [
        {
          "execution_count": 37,
          "output_type": "execute_result",
          "data": {
            "text/plain": "   Student  Vaccin  HndWshQual  HndWshFreq  SociDist  NoFaceContact  \\\n0        1       3           4           4         2              1   \n1        2       2           4           4         5              2   \n2        3       3           2           2         2              3   \n3        4       3           3           2         2              2   \n4        5       2           5           3         3              2   \n\n   RespEttiqu  PersnDist  HandSanit   Risk  Complications  Barriers  \\\n0           5          1          1 -0.770         -1.453     0.000   \n1           5          4          4 -0.345          0.000    -0.489   \n2           2          2          1 -0.406         -0.575    -0.234   \n3           5          3          1 -0.575         -0.197    -0.429   \n4           5          5          3  0.000         -0.770     0.097   \n\n   Inefficacy  KnowlTrans  KnowlMgmt       Sick       Flu Female  \n0       0.929      -0.554      0.000        not       not    yes  \n1       0.149      -0.554      1.482  cold_like       not     no  \n2       0.693      -0.182     -1.482        not       not     no  \n3       0.000       0.554      0.000   flu_like  flu_like    NaN  \n4       0.546       0.554      0.684  cold_like       not     no  ",
            "text/html": "<div>\n<style scoped>\n    .dataframe tbody tr th:only-of-type {\n        vertical-align: middle;\n    }\n\n    .dataframe tbody tr th {\n        vertical-align: top;\n    }\n\n    .dataframe thead th {\n        text-align: right;\n    }\n</style>\n<table border=\"1\" class=\"dataframe\">\n  <thead>\n    <tr style=\"text-align: right;\">\n      <th></th>\n      <th>Student</th>\n      <th>Vaccin</th>\n      <th>HndWshQual</th>\n      <th>HndWshFreq</th>\n      <th>SociDist</th>\n      <th>NoFaceContact</th>\n      <th>RespEttiqu</th>\n      <th>PersnDist</th>\n      <th>HandSanit</th>\n      <th>Risk</th>\n      <th>Complications</th>\n      <th>Barriers</th>\n      <th>Inefficacy</th>\n      <th>KnowlTrans</th>\n      <th>KnowlMgmt</th>\n      <th>Sick</th>\n      <th>Flu</th>\n      <th>Female</th>\n    </tr>\n  </thead>\n  <tbody>\n    <tr>\n      <th>0</th>\n      <td>1</td>\n      <td>3</td>\n      <td>4</td>\n      <td>4</td>\n      <td>2</td>\n      <td>1</td>\n      <td>5</td>\n      <td>1</td>\n      <td>1</td>\n      <td>-0.770</td>\n      <td>-1.453</td>\n      <td>0.000</td>\n      <td>0.929</td>\n      <td>-0.554</td>\n      <td>0.000</td>\n      <td>not</td>\n      <td>not</td>\n      <td>yes</td>\n    </tr>\n    <tr>\n      <th>1</th>\n      <td>2</td>\n      <td>2</td>\n      <td>4</td>\n      <td>4</td>\n      <td>5</td>\n      <td>2</td>\n      <td>5</td>\n      <td>4</td>\n      <td>4</td>\n      <td>-0.345</td>\n      <td>0.000</td>\n      <td>-0.489</td>\n      <td>0.149</td>\n      <td>-0.554</td>\n      <td>1.482</td>\n      <td>cold_like</td>\n      <td>not</td>\n      <td>no</td>\n    </tr>\n    <tr>\n      <th>2</th>\n      <td>3</td>\n      <td>3</td>\n      <td>2</td>\n      <td>2</td>\n      <td>2</td>\n      <td>3</td>\n      <td>2</td>\n      <td>2</td>\n      <td>1</td>\n      <td>-0.406</td>\n      <td>-0.575</td>\n      <td>-0.234</td>\n      <td>0.693</td>\n      <td>-0.182</td>\n      <td>-1.482</td>\n      <td>not</td>\n      <td>not</td>\n      <td>no</td>\n    </tr>\n    <tr>\n      <th>3</th>\n      <td>4</td>\n      <td>3</td>\n      <td>3</td>\n      <td>2</td>\n      <td>2</td>\n      <td>2</td>\n      <td>5</td>\n      <td>3</td>\n      <td>1</td>\n      <td>-0.575</td>\n      <td>-0.197</td>\n      <td>-0.429</td>\n      <td>0.000</td>\n      <td>0.554</td>\n      <td>0.000</td>\n      <td>flu_like</td>\n      <td>flu_like</td>\n      <td>NaN</td>\n    </tr>\n    <tr>\n      <th>4</th>\n      <td>5</td>\n      <td>2</td>\n      <td>5</td>\n      <td>3</td>\n      <td>3</td>\n      <td>2</td>\n      <td>5</td>\n      <td>5</td>\n      <td>3</td>\n      <td>0.000</td>\n      <td>-0.770</td>\n      <td>0.097</td>\n      <td>0.546</td>\n      <td>0.554</td>\n      <td>0.684</td>\n      <td>cold_like</td>\n      <td>not</td>\n      <td>no</td>\n    </tr>\n  </tbody>\n</table>\n</div>"
          },
          "metadata": {}
        }
      ]
    },
    {
      "cell_type": "raw",
      "source": "In my view Student and Barriers are redundant features in this dataset, because Student is just a serial count, it does not involve in analysis of predicting target variable and barriers will not play key role in analysis because it just a word of mouth.",
      "metadata": {}
    },
    {
      "cell_type": "raw",
      "source": "e) What is the correlation between SociDist and PersnDist? Does this imply that people who \nmaintain social distancing also tend to maintain personal distance? ",
      "metadata": {}
    },
    {
      "cell_type": "code",
      "source": "x=df['SociDist']\ny=df['PersnDist']\nn=df.shape[0]\ncorr=((np.sum((x - np.mean(x)) * (y - np.mean(y))) ) * 1/(n-1))/(np.std(x) * np.std(y))\nprint(corr)",
      "metadata": {
        "trusted": true
      },
      "execution_count": 38,
      "outputs": [
        {
          "name": "stdout",
          "text": "0.13521883239941404\n",
          "output_type": "stream"
        }
      ]
    },
    {
      "cell_type": "code",
      "source": "",
      "metadata": {},
      "execution_count": null,
      "outputs": []
    }
  ]
}