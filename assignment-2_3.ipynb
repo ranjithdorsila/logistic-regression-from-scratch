{
  "metadata": {
    "language_info": {
      "codemirror_mode": {
        "name": "python",
        "version": 3
      },
      "file_extension": ".py",
      "mimetype": "text/x-python",
      "name": "python",
      "nbconvert_exporter": "python",
      "pygments_lexer": "ipython3",
      "version": "3.8"
    },
    "kernelspec": {
      "name": "python",
      "display_name": "Python (Pyodide)",
      "language": "python"
    }
  },
  "nbformat_minor": 4,
  "nbformat": 4,
  "cells": [
    {
      "cell_type": "raw",
      "source": "3. Logistic Regression with Multiple Variables",
      "metadata": {}
    },
    {
      "cell_type": "code",
      "source": "#importing the packages\nimport numpy as np\nimport pandas as pd\nimport matplotlib.pyplot as plt\nimport math\nimport sys\nfrom sklearn.metrics import confusion_matrix",
      "metadata": {
        "trusted": true
      },
      "execution_count": 1,
      "outputs": []
    },
    {
      "cell_type": "code",
      "source": "#reading the dataset\ns = 'flu_data.csv'\ndf = pd.read_csv(s)\ndf.head()",
      "metadata": {
        "trusted": true
      },
      "execution_count": 2,
      "outputs": [
        {
          "execution_count": 2,
          "output_type": "execute_result",
          "data": {
            "text/plain": "   Student  Vaccin  HndWshQual  HndWshFreq  SociDist  NoFaceContact  \\\n0        1       3           4           4         2              1   \n1        2       2           4           4         5              2   \n2        3       3           2           2         2              3   \n3        4       3           3           2         2              2   \n4        5       2           5           3         3              2   \n\n   RespEttiqu  PersnDist  HandSanit   Risk  Complications  Barriers  \\\n0           5          1          1 -0.770         -1.453     0.000   \n1           5          4          4 -0.345          0.000    -0.489   \n2           2          2          1 -0.406         -0.575    -0.234   \n3           5          3          1 -0.575         -0.197    -0.429   \n4           5          5          3  0.000         -0.770     0.097   \n\n   Inefficacy  KnowlTrans  KnowlMgmt  Sick  Flu  Female  \n0       0.929      -0.554      0.000   0.0  0.0     1.0  \n1       0.149      -0.554      1.482   1.0  0.0     0.0  \n2       0.693      -0.182     -1.482   0.0  0.0     0.0  \n3       0.000       0.554      0.000   2.0  1.0     NaN  \n4       0.546       0.554      0.684   1.0  0.0     0.0  ",
            "text/html": "<div>\n<style scoped>\n    .dataframe tbody tr th:only-of-type {\n        vertical-align: middle;\n    }\n\n    .dataframe tbody tr th {\n        vertical-align: top;\n    }\n\n    .dataframe thead th {\n        text-align: right;\n    }\n</style>\n<table border=\"1\" class=\"dataframe\">\n  <thead>\n    <tr style=\"text-align: right;\">\n      <th></th>\n      <th>Student</th>\n      <th>Vaccin</th>\n      <th>HndWshQual</th>\n      <th>HndWshFreq</th>\n      <th>SociDist</th>\n      <th>NoFaceContact</th>\n      <th>RespEttiqu</th>\n      <th>PersnDist</th>\n      <th>HandSanit</th>\n      <th>Risk</th>\n      <th>Complications</th>\n      <th>Barriers</th>\n      <th>Inefficacy</th>\n      <th>KnowlTrans</th>\n      <th>KnowlMgmt</th>\n      <th>Sick</th>\n      <th>Flu</th>\n      <th>Female</th>\n    </tr>\n  </thead>\n  <tbody>\n    <tr>\n      <th>0</th>\n      <td>1</td>\n      <td>3</td>\n      <td>4</td>\n      <td>4</td>\n      <td>2</td>\n      <td>1</td>\n      <td>5</td>\n      <td>1</td>\n      <td>1</td>\n      <td>-0.770</td>\n      <td>-1.453</td>\n      <td>0.000</td>\n      <td>0.929</td>\n      <td>-0.554</td>\n      <td>0.000</td>\n      <td>0.0</td>\n      <td>0.0</td>\n      <td>1.0</td>\n    </tr>\n    <tr>\n      <th>1</th>\n      <td>2</td>\n      <td>2</td>\n      <td>4</td>\n      <td>4</td>\n      <td>5</td>\n      <td>2</td>\n      <td>5</td>\n      <td>4</td>\n      <td>4</td>\n      <td>-0.345</td>\n      <td>0.000</td>\n      <td>-0.489</td>\n      <td>0.149</td>\n      <td>-0.554</td>\n      <td>1.482</td>\n      <td>1.0</td>\n      <td>0.0</td>\n      <td>0.0</td>\n    </tr>\n    <tr>\n      <th>2</th>\n      <td>3</td>\n      <td>3</td>\n      <td>2</td>\n      <td>2</td>\n      <td>2</td>\n      <td>3</td>\n      <td>2</td>\n      <td>2</td>\n      <td>1</td>\n      <td>-0.406</td>\n      <td>-0.575</td>\n      <td>-0.234</td>\n      <td>0.693</td>\n      <td>-0.182</td>\n      <td>-1.482</td>\n      <td>0.0</td>\n      <td>0.0</td>\n      <td>0.0</td>\n    </tr>\n    <tr>\n      <th>3</th>\n      <td>4</td>\n      <td>3</td>\n      <td>3</td>\n      <td>2</td>\n      <td>2</td>\n      <td>2</td>\n      <td>5</td>\n      <td>3</td>\n      <td>1</td>\n      <td>-0.575</td>\n      <td>-0.197</td>\n      <td>-0.429</td>\n      <td>0.000</td>\n      <td>0.554</td>\n      <td>0.000</td>\n      <td>2.0</td>\n      <td>1.0</td>\n      <td>NaN</td>\n    </tr>\n    <tr>\n      <th>4</th>\n      <td>5</td>\n      <td>2</td>\n      <td>5</td>\n      <td>3</td>\n      <td>3</td>\n      <td>2</td>\n      <td>5</td>\n      <td>5</td>\n      <td>3</td>\n      <td>0.000</td>\n      <td>-0.770</td>\n      <td>0.097</td>\n      <td>0.546</td>\n      <td>0.554</td>\n      <td>0.684</td>\n      <td>1.0</td>\n      <td>0.0</td>\n      <td>0.0</td>\n    </tr>\n  </tbody>\n</table>\n</div>"
          },
          "metadata": {}
        }
      ]
    },
    {
      "cell_type": "code",
      "source": "#coding the sigmoid function\ndef sigmoid(x,parameters):\n    hx=np.dot(x,parameters)\n    return 1/(1+np.exp(-hx))\n#coding the cost function\ndef costfun(x,y,parameters,m,sigmod):\n    y=np.array(y)\n    return (-1/m)*np.sum((y*np.log(sigmod))+(1-y)*np.log(1-sigmod))\n#coding the logistic regression from scratch\ndef logisticregression(x,y,lr,parameters,iters,m):\n    costfunctionvalues=[]\n    for i in range(iters):\n        sigmod=sigmoid(x,parameters)\n        gradient = np.dot(x.T,(sigmod - np.array([y]))) / m\n        parameters=parameters-(lr*gradient).T\n        parameters=parameters[0][0]\n        costfunctionvalues.append(costfun(x,y,parameters,m,sigmod))\n    return parameters\n#predicton function for calculating predicted values\ndef prediction(x,parameters,cuttingvalue):\n    value=sigmoid(x,parameters)\n    if (value > cuttingvalue) :\n        return 1\n    else:\n        return 0\n#calculating the  performance metrics   \ndef performance(gh,y,d1,parameters,s):\n    predicted=[]\n    for i in range(s):\n        predicted.append(prediction(gh.iloc[[i]],parameters,0.7))       \n    yc=d1['Flu']  \n    print(\"confusion matrix\")\n    print(confusion_matrix(y,predicted) )\n    tp=0\n    fp=0\n    fn=0\n    tn=0\n    for i in range(s):\n        if(yc[i]==1 and predicted[i]==1):\n            tp=tp+1\n        \n        if(yc[i]==0 and predicted[i]==1):\n            fp=fp+1\n        \n        if(yc[i]==1 and predicted[i]==0):\n            fn=fn+1\n        \n        if(yc[i]==0 and predicted[i]==0):\n            tn=tn+1    \n    print(\"accuracy\")\n    if((tp+tn+fp+fn)== 0):\n        print(\"0\")\n    else:    \n        print((tp+tn)/(tp+tn+fp+fn))\n    print(\"precision\")    \n    if((tp+fp)==0): \n        print(\"0\")\n    else:    \n        print((tp)/(tp+fp))\n    print(\"recall\")    \n    if((tp+fn)==0):\n        print(\"0\")\n    else:    \n        print((tp)/(tp+fn))  ",
      "metadata": {
        "trusted": true
      },
      "execution_count": 3,
      "outputs": []
    },
    {
      "cell_type": "raw",
      "source": "a) Design a Logistic Regression model to predict whether a student reported flu-like \nsymptoms in the past year i.e., Flu(y) using below 12 variables in the dataset as input \nvariables:\nVaccin, HndWshQual, HndWshFreq, SociDist, NoFaceContact, RespEttiqu, PersnDist,HandSanit, Risk, Inefficacy, KnowlTrans, KnowlMgmt",
      "metadata": {}
    },
    {
      "cell_type": "code",
      "source": "key1=['Vaccin','HndWshQual','HndWshFreq','SociDist','NoFaceContact','RespEttiqu','PersnDist','HandSanit','Risk','Inefficacy','KnowlTrans','KnowlMgmt','Flu']\nd1=pd.DataFrame(df[key1])\nd1.isnull().sum()",
      "metadata": {
        "trusted": true
      },
      "execution_count": 4,
      "outputs": [
        {
          "execution_count": 4,
          "output_type": "execute_result",
          "data": {
            "text/plain": "Vaccin            0\nHndWshQual        0\nHndWshFreq        0\nSociDist          0\nNoFaceContact     0\nRespEttiqu        0\nPersnDist         0\nHandSanit         0\nRisk              0\nInefficacy        0\nKnowlTrans        1\nKnowlMgmt         0\nFlu              36\ndtype: int64"
          },
          "metadata": {}
        }
      ]
    },
    {
      "cell_type": "code",
      "source": "d1['Flu'].fillna(value=0.0,inplace=True)\nd1['KnowlTrans'].fillna(value=np.mean(d1['KnowlTrans']),inplace=True)",
      "metadata": {
        "trusted": true
      },
      "execution_count": 5,
      "outputs": []
    },
    {
      "cell_type": "code",
      "source": "x=d1[['Vaccin','HndWshQual','HndWshFreq','SociDist','NoFaceContact','RespEttiqu','PersnDist','HandSanit','Risk','Inefficacy','KnowlTrans','KnowlMgmt']]\ny=d1[['Flu']]",
      "metadata": {
        "trusted": true
      },
      "execution_count": 6,
      "outputs": []
    },
    {
      "cell_type": "code",
      "source": "s=x.shape[0] \nm=x.shape[1]\nlr=0.1\nparameters=np.ones(m)\niters=100\n#calling the logistic regression function\nparameters=logisticregression(x,y,lr,parameters,iters,s)",
      "metadata": {
        "trusted": true
      },
      "execution_count": 11,
      "outputs": []
    },
    {
      "cell_type": "code",
      "source": "#calling the performance function\nperformance(x,y,d1,parameters,s)",
      "metadata": {
        "trusted": true
      },
      "execution_count": 10,
      "outputs": [
        {
          "name": "stdout",
          "text": "confusion matrix\n[[100 232]\n [  7  71]]\naccuracy\n0.4170731707317073\nprecision\n0.23432343234323433\nrecall\n0.9102564102564102\n",
          "output_type": "stream"
        }
      ]
    },
    {
      "cell_type": "raw",
      "source": "b) Design a Logistic Regression model to predict whether a student reported flu-like \nsymptoms in the past year i.e., Flu(y) using forward selection to select most significant \nvariables in the dataset as input variables. Which subset of features gave you the best \nperformance? What are your thoughts on these features getting selected?",
      "metadata": {}
    },
    {
      "cell_type": "code",
      "source": "f1=d1[['Risk']]\ns=f1.shape[0]\nm=f1.shape[1]\nlr=0.1\nparameters=np.ones(m)\niters=100\nparameters=logisticregression(f1,y,lr,parameters,iters,s)\nperformance(f1,y,d1,parameters,s)",
      "metadata": {
        "trusted": true
      },
      "execution_count": 13,
      "outputs": [
        {
          "name": "stdout",
          "text": "confusion matrix\n[[308  24]\n [ 57  21]]\naccuracy\n0.802439024390244\nprecision\n0.4666666666666667\nrecall\n0.2692307692307692\n",
          "output_type": "stream"
        }
      ]
    },
    {
      "cell_type": "code",
      "source": "f2=d1[['Risk','HndWshFreq']]\ns=f2.shape[0]\nm=f2.shape[1]\nlr=0.1\nparameters=np.ones(m)\niters=100\nparameters=logisticregression(f2,y,lr,parameters,iters,s)\nperformance(f2,y,d1,parameters,s)",
      "metadata": {
        "trusted": true
      },
      "execution_count": 16,
      "outputs": [
        {
          "name": "stdout",
          "text": "confusion matrix\n[[317  15]\n [ 67  11]]\naccuracy\n0.8\nprecision\n0.4230769230769231\nrecall\n0.14102564102564102\n",
          "output_type": "stream"
        }
      ]
    },
    {
      "cell_type": "code",
      "source": "f3=d1[['Risk','HndWshQual','HndWshFreq']]\ns=f3.shape[0]\nm=f3.shape[1]\nlr=0.1\nparameters=np.ones(m)\niters=100\nparameters=logisticregression(f3,y,lr,parameters,iters,s)\nperformance(f3,y,d1,parameters,s)",
      "metadata": {
        "trusted": true
      },
      "execution_count": 17,
      "outputs": [
        {
          "name": "stdout",
          "text": "confusion matrix\n[[320  12]\n [ 68  10]]\naccuracy\n0.8048780487804879\nprecision\n0.45454545454545453\nrecall\n0.1282051282051282\n",
          "output_type": "stream"
        }
      ]
    },
    {
      "cell_type": "code",
      "source": "f4=d1[['Risk','HndWshQual','HndWshFreq','SociDist']]\ns=f4.shape[0]\nm=f4.shape[1]\nlr=0.1\nparameters=np.ones(m)\niters=100\nparameters=logisticregression(f4,y,lr,parameters,iters,s)\nperformance(f4,y,d1,parameters,s)",
      "metadata": {
        "trusted": true
      },
      "execution_count": 19,
      "outputs": [
        {
          "name": "stdout",
          "text": "confusion matrix\n[[295  37]\n [ 52  26]]\naccuracy\n0.7829268292682927\nprecision\n0.4126984126984127\nrecall\n0.3333333333333333\n",
          "output_type": "stream"
        }
      ]
    },
    {
      "cell_type": "code",
      "source": "f5=d1[['Risk','HndWshQual','HndWshFreq','SociDist','NoFaceContact']]\ns=f5.shape[0]\nm=f5.shape[1]\nlr=0.1\nparameters=np.ones(m)\niters=100\nparameters=logisticregression(f5,y,lr,parameters,iters,s)\nperformance(f5,y,d1,parameters,s)",
      "metadata": {
        "trusted": true
      },
      "execution_count": 20,
      "outputs": [
        {
          "name": "stdout",
          "text": "confusion matrix\n[[204 128]\n [ 25  53]]\naccuracy\n0.6268292682926829\nprecision\n0.292817679558011\nrecall\n0.6794871794871795\n",
          "output_type": "stream"
        }
      ]
    },
    {
      "cell_type": "code",
      "source": "f6=d1[['Risk','HndWshQual','HndWshFreq','SociDist','NoFaceContact','RespEttiqu']]\ns=f6.shape[0]\nm=f6.shape[1]\nlr=0.1\nparameters=np.ones(m)\niters=100\nparameters=logisticregression(f6,y,lr,parameters,iters,s)\nperformance(f6,y,d1,parameters,s)",
      "metadata": {
        "trusted": true
      },
      "execution_count": 23,
      "outputs": [
        {
          "name": "stdout",
          "text": "confusion matrix\n[[194 138]\n [ 24  54]]\naccuracy\n0.6048780487804878\nprecision\n0.28125\nrecall\n0.6923076923076923\n",
          "output_type": "stream"
        }
      ]
    },
    {
      "cell_type": "code",
      "source": "f7=d1[['Risk','HndWshQual','HndWshFreq','SociDist','NoFaceContact','RespEttiqu','PersnDist']]\ns=f7.shape[0]\nm=f7.shape[1]\nlr=0.1\nparameters=np.ones(m)\niters=100\nparameters=logisticregression(f7,y,lr,parameters,iters,s)\nperformance(f7,y,d1,parameters,s)",
      "metadata": {
        "trusted": true
      },
      "execution_count": 24,
      "outputs": [
        {
          "name": "stdout",
          "text": "confusion matrix\n[[ 58 274]\n [  4  74]]\naccuracy\n0.32195121951219513\nprecision\n0.21264367816091953\nrecall\n0.9487179487179487\n",
          "output_type": "stream"
        }
      ]
    },
    {
      "cell_type": "code",
      "source": "f8=d1[['Risk','HndWshQual','HndWshFreq','SociDist','NoFaceContact','RespEttiqu','PersnDist','HandSanit']]\ns=f8.shape[0]\nm=f8.shape[1]\nlr=0.1\nparameters=np.ones(m)\niters=100\nparameters=logisticregression(f8,y,lr,parameters,iters,s)\nperformance(f8,y,d1,parameters,s)",
      "metadata": {
        "trusted": true
      },
      "execution_count": 25,
      "outputs": [
        {
          "name": "stdout",
          "text": "confusion matrix\n[[ 41 291]\n [  1  77]]\naccuracy\n0.28780487804878047\nprecision\n0.20923913043478262\nrecall\n0.9871794871794872\n",
          "output_type": "stream"
        }
      ]
    },
    {
      "cell_type": "code",
      "source": "f9=d1[['Vaccin','HndWshQual','HndWshFreq','SociDist','NoFaceContact','RespEttiqu','PersnDist','HandSanit','Risk']]\ns=f9.shape[0]\nm=f9.shape[1]\nlr=0.1\nparameters=np.ones(m)\niters=100\nparameters=logisticregression(f9,y,lr,parameters,iters,s)\nperformance(f9,y,d1,parameters,s)",
      "metadata": {
        "trusted": true
      },
      "execution_count": 26,
      "outputs": [
        {
          "name": "stdout",
          "text": "confusion matrix\n[[ 70 262]\n [  2  76]]\naccuracy\n0.35609756097560974\nprecision\n0.22485207100591717\nrecall\n0.9743589743589743\n",
          "output_type": "stream"
        }
      ]
    },
    {
      "cell_type": "code",
      "source": "f10=d1[['Vaccin','HndWshQual','HndWshFreq','SociDist','NoFaceContact','RespEttiqu','PersnDist','HandSanit','Risk','Inefficacy']]\ns=f10.shape[0]\nm=f10.shape[1]\nlr=0.1\nparameters=np.ones(m)\niters=100\nparameters=logisticregression(f10,y,lr,parameters,iters,s)\nperformance(f10,y,d1,parameters,s)",
      "metadata": {
        "trusted": true
      },
      "execution_count": 27,
      "outputs": [
        {
          "name": "stdout",
          "text": "confusion matrix\n[[150 182]\n [ 11  67]]\naccuracy\n0.5292682926829269\nprecision\n0.26907630522088355\nrecall\n0.8589743589743589\n",
          "output_type": "stream"
        }
      ]
    },
    {
      "cell_type": "code",
      "source": "f11=d1[['Vaccin','HndWshQual','HndWshFreq','SociDist','NoFaceContact','RespEttiqu','PersnDist','HandSanit','Risk','Inefficacy','KnowlTrans']]\ns=f11.shape[0]\nm=f11.shape[1]\nlr=0.1\nparameters=np.ones(m)\niters=100\nparameters=logisticregression(f11,y,lr,parameters,iters,s)\nperformance(f11,y,d1,parameters,s)",
      "metadata": {
        "trusted": true
      },
      "execution_count": 28,
      "outputs": [
        {
          "name": "stdout",
          "text": "confusion matrix\n[[100 232]\n [  6  72]]\naccuracy\n0.4195121951219512\nprecision\n0.23684210526315788\nrecall\n0.9230769230769231\n",
          "output_type": "stream"
        }
      ]
    },
    {
      "cell_type": "raw",
      "source": "['Risk','HndWshQual','HndWshFreq'] has the best performance with an accuracy of 0.8048780487804879.\nIn my view, this set of features are good in predicting the Flu.",
      "metadata": {}
    },
    {
      "cell_type": "raw",
      "source": "c) Compare the performance of the full model built using all the features in (3a) with the \nresultant accuracies of the full model using the selected features (3b). Which set of \nfeatures performed better?",
      "metadata": {}
    },
    {
      "cell_type": "raw",
      "source": "after comparing the performance of all the features, the combination of ['Risk','HndWshQual','HndWshFreq'] features from 3b are the best, with an accuracy of 0.8048780487804879.",
      "metadata": {}
    }
  ]
}